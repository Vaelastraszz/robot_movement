{
  "nbformat": 4,
  "nbformat_minor": 0,
  "metadata": {
    "colab": {
      "name": "Robot Movment.ipynb",
      "provenance": [],
      "include_colab_link": true
    },
    "kernelspec": {
      "name": "python3",
      "display_name": "Python 3"
    }
  },
  "cells": [
    {
      "cell_type": "markdown",
      "metadata": {
        "id": "view-in-github",
        "colab_type": "text"
      },
      "source": [
        "<a href=\"https://colab.research.google.com/github/Vaelastraszz/robot_movement/blob/master/Robot_Movment.ipynb\" target=\"_parent\"><img src=\"https://colab.research.google.com/assets/colab-badge.svg\" alt=\"Open In Colab\"/></a>"
      ]
    },
    {
      "cell_type": "code",
      "metadata": {
        "id": "yG2Rc3Og6krb",
        "colab_type": "code",
        "outputId": "7980fa61-53af-4080-a9dc-91443756a88a",
        "colab": {
          "base_uri": "https://localhost:8080/",
          "height": 122
        }
      },
      "source": [
        "import sys\n",
        "import pandas as pd\n",
        "import matplotlib.pyplot as plt\n",
        "import numpy as np\n",
        "\n",
        "from google.colab import drive\n",
        "\n",
        "drive.mount('/content/gdrive')"
      ],
      "execution_count": 0,
      "outputs": [
        {
          "output_type": "stream",
          "text": [
            "Go to this URL in a browser: https://accounts.google.com/o/oauth2/auth?client_id=947318989803-6bn6qk8qdgf4n4g3pfee6491hc0brc4i.apps.googleusercontent.com&redirect_uri=urn%3Aietf%3Awg%3Aoauth%3A2.0%3Aoob&scope=email%20https%3A%2F%2Fwww.googleapis.com%2Fauth%2Fdocs.test%20https%3A%2F%2Fwww.googleapis.com%2Fauth%2Fdrive%20https%3A%2F%2Fwww.googleapis.com%2Fauth%2Fdrive.photos.readonly%20https%3A%2F%2Fwww.googleapis.com%2Fauth%2Fpeopleapi.readonly&response_type=code\n",
            "\n",
            "Enter your authorization code:\n",
            "··········\n",
            "Mounted at /content/gdrive\n"
          ],
          "name": "stdout"
        }
      ]
    },
    {
      "cell_type": "code",
      "metadata": {
        "id": "hUeXExdK6rYz",
        "colab_type": "code",
        "colab": {}
      },
      "source": [
        "class robot:\n",
        "\n",
        "    def __init__(self, height, width):\n",
        "        self.height = height\n",
        "        self.width = width\n",
        "        self.pos_x = 0\n",
        "        self.pos_y = 0\n",
        "        self.orientation = \"up\"\n",
        "\n",
        "    def oriented(self, cases):\n",
        "        \n",
        "        if self.orientation == \"up\":\n",
        "            self.pos_y = self.pos_y + cases\n",
        "\n",
        "        elif self.orientation == \"right\":\n",
        "            self.pos_x = self.pos_x + cases\n",
        "\n",
        "        elif self.orientation == \"down\":\n",
        "            self.pos_y = self.pos_y - cases\n",
        "\n",
        "        elif self.orientation == \"left\":\n",
        "            self.pos_x = self.pos_x - cases\n",
        "\n",
        "    def change_or(self, direction):\n",
        "\n",
        "        if direction == \"right\" and self.orientation ==\"up\":\n",
        "            self.orientation = \"right\"\n",
        "        \n",
        "        elif direction == \"left\" and self.orientation ==\"up\":\n",
        "            self.orientation = \"left\"\n",
        "        \n",
        "        elif direction == \"right\" and self.orientation ==\"right\":\n",
        "            self.orientation = \"down\"\n",
        "\n",
        "        elif direction == \"left\" and self.orientation ==\"right\":\n",
        "            self.orientation = \"up\"\n",
        "\n",
        "        elif direction == \"right\" and self.orientation ==\"left\":\n",
        "            self.orientation = \"up\"\n",
        "\n",
        "        elif direction == \"left\" and self.orientation ==\"left\":\n",
        "            self.orientation = \"down\"\n",
        "        \n",
        "        elif direction == \"left\" and self.orientation ==\"down\":\n",
        "            self.orientation = \"left\"\n",
        "\n",
        "        elif direction == \"right\" and self.orientation ==\"down\":\n",
        "            self.orientation = \"right\"\n",
        "\n",
        "               \n",
        "    def move(self, direction, cases):       \n",
        "        self.change_or(direction)\n",
        "        self.oriented(cases)\n",
        "\n",
        "        if self.pos_x < 0 :\n",
        "            self.pos_x = 0\n",
        "        \n",
        "        elif self.pos_x >= self.width :\n",
        "            self.pos_x = self.width - 1\n",
        "        \n",
        "        elif self.pos_y < 0 :\n",
        "            self.pos_y = 0\n",
        "        \n",
        "        elif self.pos_y >= self.height :\n",
        "            self.pos_y = self.height - 1\n",
        "        \n",
        "        return self.pos_x,self.pos_y\n"
      ],
      "execution_count": 0,
      "outputs": []
    },
    {
      "cell_type": "code",
      "metadata": {
        "id": "CV8rxrxAEO3Q",
        "colab_type": "code",
        "colab": {}
      },
      "source": [
        "def get_universe():\n",
        "\n",
        "    path = \"/content/gdrive/My Drive/robot/universe.txt\"\n",
        "    file = open(path).readlines()\n",
        "    height = \"\"\n",
        "    width = \"\"\n",
        "\n",
        "    for lines in file:\n",
        "        if 'width' in lines:                                                                                         \n",
        "            width = lines.split(\":\")[-1].strip()  \n",
        "        if 'height' in lines:\n",
        "            height = lines.split(\":\")[-1].strip()\n",
        "\n",
        "    return int(height),int(width)"
      ],
      "execution_count": 0,
      "outputs": []
    },
    {
      "cell_type": "code",
      "metadata": {
        "id": "2VQLdKaeJ8rg",
        "colab_type": "code",
        "colab": {}
      },
      "source": [
        "def game():\n",
        "    path = \"/content/gdrive/My Drive/robot/instrucion_list.txt\"\n",
        "    file = open(path).readlines()\n",
        "    height,width = get_universe()\n",
        "    agent = robot(height,width)\n",
        "\n",
        "    for lines in file:                                                                                        \n",
        "        cases = int(lines.split(\",\")[-1].strip()) \n",
        "        direction = lines.split(\",\")[0].strip()\n",
        "        agent.move(direction,cases)\n",
        "\n",
        "    return agent.pos_x,agent.pos_y"
      ],
      "execution_count": 0,
      "outputs": []
    },
    {
      "cell_type": "code",
      "metadata": {
        "id": "l9dVstS1KQ78",
        "colab_type": "code",
        "outputId": "fcc61bd3-dceb-45dc-f88e-d4da2caa7635",
        "colab": {
          "base_uri": "https://localhost:8080/",
          "height": 34
        }
      },
      "source": [
        "print(game())"
      ],
      "execution_count": 0,
      "outputs": [
        {
          "output_type": "stream",
          "text": [
            "(112, 86)\n"
          ],
          "name": "stdout"
        }
      ]
    },
    {
      "cell_type": "code",
      "metadata": {
        "id": "oi5a2IlaNOnB",
        "colab_type": "code",
        "colab": {}
      },
      "source": [
        ""
      ],
      "execution_count": 0,
      "outputs": []
    }
  ]
}